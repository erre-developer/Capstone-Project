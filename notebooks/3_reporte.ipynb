{
 "cells": [
  {
   "cell_type": "markdown",
   "id": "77c38e27",
   "metadata": {},
   "source": [
    "### Informe Final"
   ]
  },
  {
   "cell_type": "markdown",
   "id": "1e7c6c32",
   "metadata": {},
   "source": [
    "- Contexto general de los datos:\n",
    "\n"
   ]
  },
  {
   "cell_type": "markdown",
   "id": "b2b5ea0d",
   "metadata": {},
   "source": [
    "En el contexto de la data **Ames** donde a raíz de diferentes variables fluctuan los precios de las viviendas, ya sea superfice de terreno, calidad de viviendas, calefacción, etc. con cierto tipo de analisis y aplicar algunos modelos de predicciones se podrían saber cuan real puede ser el valor de las viviendas.\n"
   ]
  },
  {
   "cell_type": "markdown",
   "id": "0966bfec",
   "metadata": {},
   "source": [
    "- Proceso de Limpieza:\n",
    "\n"
   ]
  },
  {
   "cell_type": "markdown",
   "id": "ba902192",
   "metadata": {},
   "source": [
    "El proceso de limpieza de la data se revisó en el notebook **1_limpieza.ipynb** en el cual se escogieron las variebles mas determinantes para aplicar modelos de machine learning, estas fueron 'Lot.Area','Gr.Liv.Area','Heating.QC','Central.Air' y 'SalesPrice'. Estas Varibles contaban con los 2930 datos, no faltaban ningunos para aplicarl los modelos. de igual manera se clasificaron 2 variables categoricas, estas fueron 'Heating.QC' y 'Central.Air' para un mejor entendimiento."
   ]
  },
  {
   "cell_type": "markdown",
   "id": "f69e06e5",
   "metadata": {},
   "source": [
    "- Modelos:"
   ]
  },
  {
   "cell_type": "markdown",
   "id": "45cfaf2a",
   "metadata": {},
   "source": [
    "Los modelos probados fueron Regresión Lineal Simple y Multiple, la cual se ejecutaron los 2. La con mayor presición fue la multiple con casi un R2 de un 60% a diferencia de la simple con yn 49%. se debe de igual manera a la mayor cantidad de vaeriables con cual el modelo se entreno y ejecutó."
   ]
  },
  {
   "cell_type": "markdown",
   "id": "f148cefd",
   "metadata": {},
   "source": [
    "#### Regresión Lineal Multiple"
   ]
  },
  {
   "cell_type": "code",
   "execution_count": 1,
   "id": "889233e8",
   "metadata": {},
   "outputs": [],
   "source": [
    "#Importe de libreiras\n",
    "import pandas as pd\n",
    "import numpy as np\n",
    "import seaborn as sns\n",
    "import matplotlib.pylab as plt\n",
    "from sklearn.model_selection import train_test_split\n",
    "%matplotlib inline "
   ]
  },
  {
   "cell_type": "code",
   "execution_count": 2,
   "id": "2146a6b3",
   "metadata": {},
   "outputs": [],
   "source": [
    "df = pd.read_excel('../data/processed/ames_processed.xlsx')\n",
    "df_ames = pd.DataFrame(df)\n",
    "df_ames = df_ames.iloc[: , 1:]"
   ]
  },
  {
   "cell_type": "code",
   "execution_count": 3,
   "id": "9a7d3907",
   "metadata": {},
   "outputs": [],
   "source": [
    "df = pd.get_dummies(df_ames).values"
   ]
  },
  {
   "cell_type": "code",
   "execution_count": 4,
   "id": "e21d19ac",
   "metadata": {},
   "outputs": [],
   "source": [
    "X = df[:, 1:]\n",
    "y = df[:, 0]"
   ]
  },
  {
   "cell_type": "code",
   "execution_count": 5,
   "id": "52e56945",
   "metadata": {},
   "outputs": [],
   "source": [
    "X_train, X_test, y_train, y_test = train_test_split(X, y, test_size = 0.3 , random_state = 0)"
   ]
  },
  {
   "cell_type": "code",
   "execution_count": 6,
   "id": "b3d8ac89",
   "metadata": {},
   "outputs": [
    {
     "data": {
      "text/plain": [
       "LinearRegression()"
      ]
     },
     "execution_count": 6,
     "metadata": {},
     "output_type": "execute_result"
    }
   ],
   "source": [
    "from sklearn.linear_model import LinearRegression\n",
    "reg_mul = LinearRegression()\n",
    "reg_mul.fit(X_train,y_train)"
   ]
  },
  {
   "cell_type": "code",
   "execution_count": 7,
   "id": "22fe70af",
   "metadata": {},
   "outputs": [],
   "source": [
    "ypred = reg_mul.predict(X_test)"
   ]
  },
  {
   "cell_type": "code",
   "execution_count": 8,
   "id": "4551182c",
   "metadata": {},
   "outputs": [
    {
     "name": "stdout",
     "output_type": "stream",
     "text": [
      "Valor de R2 Regresión Lineal Multiple: \n",
      "0.5934757768982397\n"
     ]
    }
   ],
   "source": [
    "r2 = reg_mul.score(X,y)\n",
    "print(\"Valor de R2 Regresión Lineal Multiple: \")\n",
    "print(r2)"
   ]
  },
  {
   "cell_type": "markdown",
   "id": "dd46cd00",
   "metadata": {},
   "source": [
    "#### Regresión Lineal Simple"
   ]
  },
  {
   "cell_type": "code",
   "execution_count": 9,
   "id": "74d0229b",
   "metadata": {},
   "outputs": [],
   "source": [
    "X2 = df_ames.iloc[:,2].values\n",
    "X2 = X2.reshape(-1, 1)"
   ]
  },
  {
   "cell_type": "code",
   "execution_count": 10,
   "id": "360642dd",
   "metadata": {},
   "outputs": [],
   "source": [
    "y2 = df_ames.iloc[:,0].values\n",
    "y2 = y2.reshape(-1, 1)"
   ]
  },
  {
   "cell_type": "code",
   "execution_count": 11,
   "id": "781c5b58",
   "metadata": {},
   "outputs": [],
   "source": [
    "X_train_2, X_test_2, y_train_2, y_test_2 = train_test_split(X2, y2, test_size = 0.3, random_state = 0)"
   ]
  },
  {
   "cell_type": "code",
   "execution_count": 12,
   "id": "cf582871",
   "metadata": {},
   "outputs": [
    {
     "data": {
      "text/plain": [
       "LinearRegression()"
      ]
     },
     "execution_count": 12,
     "metadata": {},
     "output_type": "execute_result"
    }
   ],
   "source": [
    "regressor = LinearRegression()\n",
    "regressor.fit(X_train_2, y_train_2)"
   ]
  },
  {
   "cell_type": "code",
   "execution_count": 13,
   "id": "79b85b3e",
   "metadata": {},
   "outputs": [],
   "source": [
    "y_pred_2 = regressor.predict(X_test_2)"
   ]
  },
  {
   "cell_type": "code",
   "execution_count": 14,
   "id": "0edc3ebb",
   "metadata": {},
   "outputs": [
    {
     "name": "stdout",
     "output_type": "stream",
     "text": [
      "Valor de R2 Regresión Lineal Simple: \n",
      "0.499423987926232\n"
     ]
    }
   ],
   "source": [
    "r2_LS = regressor.score(X2,y2)\n",
    "print(\"Valor de R2 Regresión Lineal Simple: \")\n",
    "print(r2_LS)"
   ]
  },
  {
   "cell_type": "code",
   "execution_count": null,
   "id": "37782bc8",
   "metadata": {},
   "outputs": [],
   "source": []
  }
 ],
 "metadata": {
  "kernelspec": {
   "display_name": "Python 3 (ipykernel)",
   "language": "python",
   "name": "python3"
  },
  "language_info": {
   "codemirror_mode": {
    "name": "ipython",
    "version": 3
   },
   "file_extension": ".py",
   "mimetype": "text/x-python",
   "name": "python",
   "nbconvert_exporter": "python",
   "pygments_lexer": "ipython3",
   "version": "3.9.12"
  }
 },
 "nbformat": 4,
 "nbformat_minor": 5
}
